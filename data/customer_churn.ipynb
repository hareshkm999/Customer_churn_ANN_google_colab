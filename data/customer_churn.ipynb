{
 "cells": [
  {
   "cell_type": "code",
   "execution_count": 1,
   "id": "accompanied-repository",
   "metadata": {},
   "outputs": [],
   "source": [
    "import pandas as pd\n",
    "import numpy as np\n",
    "import matplotlib.pyplot as plt\n",
    "from sklearn.model_selection import train_test_split\n",
    "from sklearn.preprocessing import LabelEncoder, OneHotEncoder\n",
    "from sklearn.preprocessing import StandardScaler\n",
    "import theano\n",
    "import tensorflow\n",
    "import keras\n",
    "from sklearn.linear_model import LogisticRegression\n",
    "import sys\n",
    "from sklearn.metrics import confusion_matrix, accuracy_score\n",
    "from keras.models import Sequential\n",
    "from keras.layers import Dense\n",
    "import pickle\n",
    "import os\n",
    "from sklearn.metrics import accuracy_score"
   ]
  },
  {
   "cell_type": "code",
   "execution_count": 2,
   "id": "damaged-planner",
   "metadata": {},
   "outputs": [
    {
     "name": "stdout",
     "output_type": "stream",
     "text": [
      "version of theano :  1.0.5\n",
      "version of tensorflow :  2.3.0\n",
      "version of keras :  2.4.3\n"
     ]
    }
   ],
   "source": [
    "print('version of theano : ', theano.__version__)\n",
    "print('version of tensorflow : ', tensorflow.__version__)\n",
    "print('version of keras : ', keras.__version__)\n"
   ]
  },
  {
   "cell_type": "code",
   "execution_count": 3,
   "id": "exotic-silicon",
   "metadata": {},
   "outputs": [],
   "source": [
    "df = pd.read_csv(r'https://raw.githubusercontent.com/aniruddhgoteti/Bank-Customer-Churn-Modelling/master/data.csv.csv')"
   ]
  },
  {
   "cell_type": "code",
   "execution_count": 4,
   "id": "weird-adelaide",
   "metadata": {},
   "outputs": [
    {
     "data": {
      "text/html": [
       "<div>\n",
       "<style scoped>\n",
       "    .dataframe tbody tr th:only-of-type {\n",
       "        vertical-align: middle;\n",
       "    }\n",
       "\n",
       "    .dataframe tbody tr th {\n",
       "        vertical-align: top;\n",
       "    }\n",
       "\n",
       "    .dataframe thead th {\n",
       "        text-align: right;\n",
       "    }\n",
       "</style>\n",
       "<table border=\"1\" class=\"dataframe\">\n",
       "  <thead>\n",
       "    <tr style=\"text-align: right;\">\n",
       "      <th></th>\n",
       "      <th>RowNumber</th>\n",
       "      <th>CustomerId</th>\n",
       "      <th>Surname</th>\n",
       "      <th>CreditScore</th>\n",
       "      <th>Geography</th>\n",
       "      <th>Gender</th>\n",
       "      <th>Age</th>\n",
       "      <th>Tenure</th>\n",
       "      <th>Balance</th>\n",
       "      <th>NumOfProducts</th>\n",
       "      <th>HasCrCard</th>\n",
       "      <th>IsActiveMember</th>\n",
       "      <th>EstimatedSalary</th>\n",
       "      <th>Exited</th>\n",
       "    </tr>\n",
       "  </thead>\n",
       "  <tbody>\n",
       "    <tr>\n",
       "      <th>0</th>\n",
       "      <td>1</td>\n",
       "      <td>15634602</td>\n",
       "      <td>Hargrave</td>\n",
       "      <td>619</td>\n",
       "      <td>France</td>\n",
       "      <td>Female</td>\n",
       "      <td>42</td>\n",
       "      <td>2</td>\n",
       "      <td>0.00</td>\n",
       "      <td>1</td>\n",
       "      <td>1</td>\n",
       "      <td>1</td>\n",
       "      <td>101348.88</td>\n",
       "      <td>1</td>\n",
       "    </tr>\n",
       "    <tr>\n",
       "      <th>1</th>\n",
       "      <td>2</td>\n",
       "      <td>15647311</td>\n",
       "      <td>Hill</td>\n",
       "      <td>608</td>\n",
       "      <td>Spain</td>\n",
       "      <td>Female</td>\n",
       "      <td>41</td>\n",
       "      <td>1</td>\n",
       "      <td>83807.86</td>\n",
       "      <td>1</td>\n",
       "      <td>0</td>\n",
       "      <td>1</td>\n",
       "      <td>112542.58</td>\n",
       "      <td>0</td>\n",
       "    </tr>\n",
       "    <tr>\n",
       "      <th>2</th>\n",
       "      <td>3</td>\n",
       "      <td>15619304</td>\n",
       "      <td>Onio</td>\n",
       "      <td>502</td>\n",
       "      <td>France</td>\n",
       "      <td>Female</td>\n",
       "      <td>42</td>\n",
       "      <td>8</td>\n",
       "      <td>159660.80</td>\n",
       "      <td>3</td>\n",
       "      <td>1</td>\n",
       "      <td>0</td>\n",
       "      <td>113931.57</td>\n",
       "      <td>1</td>\n",
       "    </tr>\n",
       "    <tr>\n",
       "      <th>3</th>\n",
       "      <td>4</td>\n",
       "      <td>15701354</td>\n",
       "      <td>Boni</td>\n",
       "      <td>699</td>\n",
       "      <td>France</td>\n",
       "      <td>Female</td>\n",
       "      <td>39</td>\n",
       "      <td>1</td>\n",
       "      <td>0.00</td>\n",
       "      <td>2</td>\n",
       "      <td>0</td>\n",
       "      <td>0</td>\n",
       "      <td>93826.63</td>\n",
       "      <td>0</td>\n",
       "    </tr>\n",
       "    <tr>\n",
       "      <th>4</th>\n",
       "      <td>5</td>\n",
       "      <td>15737888</td>\n",
       "      <td>Mitchell</td>\n",
       "      <td>850</td>\n",
       "      <td>Spain</td>\n",
       "      <td>Female</td>\n",
       "      <td>43</td>\n",
       "      <td>2</td>\n",
       "      <td>125510.82</td>\n",
       "      <td>1</td>\n",
       "      <td>1</td>\n",
       "      <td>1</td>\n",
       "      <td>79084.10</td>\n",
       "      <td>0</td>\n",
       "    </tr>\n",
       "  </tbody>\n",
       "</table>\n",
       "</div>"
      ],
      "text/plain": [
       "   RowNumber  CustomerId   Surname  CreditScore Geography  Gender  Age  \\\n",
       "0          1    15634602  Hargrave          619    France  Female   42   \n",
       "1          2    15647311      Hill          608     Spain  Female   41   \n",
       "2          3    15619304      Onio          502    France  Female   42   \n",
       "3          4    15701354      Boni          699    France  Female   39   \n",
       "4          5    15737888  Mitchell          850     Spain  Female   43   \n",
       "\n",
       "   Tenure    Balance  NumOfProducts  HasCrCard  IsActiveMember  \\\n",
       "0       2       0.00              1          1               1   \n",
       "1       1   83807.86              1          0               1   \n",
       "2       8  159660.80              3          1               0   \n",
       "3       1       0.00              2          0               0   \n",
       "4       2  125510.82              1          1               1   \n",
       "\n",
       "   EstimatedSalary  Exited  \n",
       "0        101348.88       1  \n",
       "1        112542.58       0  \n",
       "2        113931.57       1  \n",
       "3         93826.63       0  \n",
       "4         79084.10       0  "
      ]
     },
     "execution_count": 4,
     "metadata": {},
     "output_type": "execute_result"
    }
   ],
   "source": [
    "df.head()"
   ]
  },
  {
   "cell_type": "code",
   "execution_count": 5,
   "id": "christian-facial",
   "metadata": {},
   "outputs": [
    {
     "data": {
      "text/plain": [
       "Index(['RowNumber', 'CustomerId', 'Surname', 'CreditScore', 'Geography',\n",
       "       'Gender', 'Age', 'Tenure', 'Balance', 'NumOfProducts', 'HasCrCard',\n",
       "       'IsActiveMember', 'EstimatedSalary', 'Exited'],\n",
       "      dtype='object')"
      ]
     },
     "execution_count": 5,
     "metadata": {},
     "output_type": "execute_result"
    }
   ],
   "source": [
    "df.columns"
   ]
  },
  {
   "cell_type": "code",
   "execution_count": 6,
   "id": "superior-sleep",
   "metadata": {},
   "outputs": [
    {
     "data": {
      "text/plain": [
       "Index(['CreditScore', 'Geography', 'Gender', 'Age', 'Tenure', 'Balance',\n",
       "       'NumOfProducts', 'HasCrCard', 'IsActiveMember', 'EstimatedSalary'],\n",
       "      dtype='object')"
      ]
     },
     "execution_count": 6,
     "metadata": {},
     "output_type": "execute_result"
    }
   ],
   "source": [
    "X=df.iloc[:, 3:13]\n",
    "X.columns"
   ]
  },
  {
   "cell_type": "code",
   "execution_count": 7,
   "id": "unable-actor",
   "metadata": {},
   "outputs": [],
   "source": [
    "import json\n",
    "columns = {'data_columns' : [col.lower() for col in X.columns]}\n",
    "\n",
    "with open(\"columns.json\",\"w\") as f:\n",
    "    f.write(json.dumps(columns))   "
   ]
  },
  {
   "cell_type": "code",
   "execution_count": 8,
   "id": "animated-there",
   "metadata": {},
   "outputs": [
    {
     "data": {
      "text/plain": [
       "array([[619, 'France', 'Female', ..., 1, 1, 101348.88],\n",
       "       [608, 'Spain', 'Female', ..., 0, 1, 112542.58],\n",
       "       [502, 'France', 'Female', ..., 1, 0, 113931.57],\n",
       "       ...,\n",
       "       [709, 'France', 'Female', ..., 0, 1, 42085.58],\n",
       "       [772, 'Germany', 'Male', ..., 1, 0, 92888.52],\n",
       "       [792, 'France', 'Female', ..., 1, 0, 38190.78]], dtype=object)"
      ]
     },
     "execution_count": 8,
     "metadata": {},
     "output_type": "execute_result"
    }
   ],
   "source": [
    "X=df.iloc[:, 3:13].values\n",
    "X.shape\n",
    "X"
   ]
  },
  {
   "cell_type": "code",
   "execution_count": 9,
   "id": "bulgarian-beach",
   "metadata": {},
   "outputs": [
    {
     "data": {
      "text/plain": [
       "array([1, 0, 1, ..., 1, 1, 0], dtype=int64)"
      ]
     },
     "execution_count": 9,
     "metadata": {},
     "output_type": "execute_result"
    }
   ],
   "source": [
    "y=df.iloc[:,-1].values\n",
    "y.shape\n",
    "y"
   ]
  },
  {
   "cell_type": "code",
   "execution_count": 10,
   "id": "floppy-utility",
   "metadata": {},
   "outputs": [
    {
     "name": "stdout",
     "output_type": "stream",
     "text": [
      "['France' 'Spain' 'France' ... 'France' 'Germany' 'France']\n",
      "['Female' 'Female' 'Female' ... 'Female' 'Male' 'Female']\n"
     ]
    }
   ],
   "source": [
    "print(X[:,1])\n",
    "print(X[:,2])"
   ]
  },
  {
   "cell_type": "code",
   "execution_count": 11,
   "id": "described-simple",
   "metadata": {},
   "outputs": [],
   "source": [
    "le=LabelEncoder()\n",
    "X[:,1]=le.fit_transform(X[:,1])\n",
    "le_2=LabelEncoder()\n",
    "X[:,2]=le_2.fit_transform(X[:,2])"
   ]
  },
  {
   "cell_type": "code",
   "execution_count": 12,
   "id": "retained-senior",
   "metadata": {},
   "outputs": [],
   "source": [
    "X_train, X_test, y_train, y_test= train_test_split(X, y, test_size=0.2)"
   ]
  },
  {
   "cell_type": "code",
   "execution_count": 13,
   "id": "standing-christopher",
   "metadata": {},
   "outputs": [
    {
     "name": "stdout",
     "output_type": "stream",
     "text": [
      "(8000, 10) (2000, 10) (8000,) (2000,)\n"
     ]
    }
   ],
   "source": [
    "print(X_train.shape, X_test.shape, y_train.shape, y_test.shape)"
   ]
  },
  {
   "cell_type": "code",
   "execution_count": 14,
   "id": "several-shame",
   "metadata": {},
   "outputs": [],
   "source": [
    "sc_X=StandardScaler()\n",
    "X_train=sc_X.fit_transform(X_train)\n",
    "X_test=sc_X.fit_transform(X_test)"
   ]
  },
  {
   "cell_type": "code",
   "execution_count": 15,
   "id": "chief-brush",
   "metadata": {},
   "outputs": [],
   "source": [
    "classifier=LogisticRegression()"
   ]
  },
  {
   "cell_type": "code",
   "execution_count": 16,
   "id": "conceptual-infection",
   "metadata": {},
   "outputs": [
    {
     "data": {
      "text/plain": [
       "2"
      ]
     },
     "execution_count": 16,
     "metadata": {},
     "output_type": "execute_result"
    }
   ],
   "source": [
    "X_train.ndim"
   ]
  },
  {
   "cell_type": "code",
   "execution_count": 17,
   "id": "nearby-questionnaire",
   "metadata": {},
   "outputs": [
    {
     "data": {
      "text/plain": [
       "LogisticRegression()"
      ]
     },
     "execution_count": 17,
     "metadata": {},
     "output_type": "execute_result"
    }
   ],
   "source": [
    "classifier.fit(X_train, y_train)"
   ]
  },
  {
   "cell_type": "code",
   "execution_count": 18,
   "id": "massive-postage",
   "metadata": {},
   "outputs": [],
   "source": [
    "y_pred = classifier.predict(X_test)"
   ]
  },
  {
   "cell_type": "code",
   "execution_count": 19,
   "id": "crucial-intensity",
   "metadata": {},
   "outputs": [
    {
     "name": "stdout",
     "output_type": "stream",
     "text": [
      "(2000,)\n",
      "0\n",
      "[ 0.46865518 -0.89813026  0.90911166 -0.35621031 -0.01372559  0.92037201\n",
      " -0.92250216  0.62593007 -1.02020406 -0.62535134]\n"
     ]
    }
   ],
   "source": [
    "np.set_printoptions(threshold=sys.maxsize)\n",
    "print(y_pred.shape)\n",
    "print(y_pred[25])\n",
    "print(X_test[25])"
   ]
  },
  {
   "cell_type": "code",
   "execution_count": 20,
   "id": "hollywood-microphone",
   "metadata": {},
   "outputs": [
    {
     "data": {
      "text/plain": [
       "array([[1542,   46],\n",
       "       [ 332,   80]], dtype=int64)"
      ]
     },
     "execution_count": 20,
     "metadata": {},
     "output_type": "execute_result"
    }
   ],
   "source": [
    "cm= confusion_matrix(y_test,y_pred)\n",
    "cm"
   ]
  },
  {
   "cell_type": "code",
   "execution_count": 21,
   "id": "chinese-physics",
   "metadata": {},
   "outputs": [
    {
     "name": "stdout",
     "output_type": "stream",
     "text": [
      "[[1542   46]\n",
      " [ 332   80]]\n",
      "Accuracy =\n",
      "0.817\n"
     ]
    }
   ],
   "source": [
    "print(cm)\n",
    "print(\"Accuracy =\")\n",
    "print((1566+68)/2000)"
   ]
  },
  {
   "cell_type": "markdown",
   "id": "hairy-worker",
   "metadata": {},
   "source": [
    "## Go ANN!"
   ]
  },
  {
   "cell_type": "code",
   "execution_count": 22,
   "id": "opposed-demonstration",
   "metadata": {},
   "outputs": [],
   "source": [
    "clr= Sequential()\n",
    "clr.add(Dense(units=6, kernel_initializer=\"uniform\", activation= \"relu\", input_dim=10))\n",
    "clr.add(Dense(units=6, kernel_initializer=\"uniform\", activation= \"relu\"))\n",
    "clr.add(Dense(units=1, kernel_initializer=\"uniform\", activation= \"sigmoid\"))"
   ]
  },
  {
   "cell_type": "code",
   "execution_count": 23,
   "id": "missing-cutting",
   "metadata": {},
   "outputs": [],
   "source": [
    "#if more than one dependant variables, use Softmax and make output dim as no of dependant varibles\n",
    "#also use performance tuning\n",
    "#more than one dependant othr loss function\n",
    "clr.compile(optimizer=\"adam\", loss=\"binary_crossentropy\", metrics=[\"accuracy\"])"
   ]
  },
  {
   "cell_type": "code",
   "execution_count": 24,
   "id": "excited-people",
   "metadata": {},
   "outputs": [
    {
     "name": "stdout",
     "output_type": "stream",
     "text": [
      "Epoch 1/100\n",
      "800/800 [==============================] - 1s 775us/step - loss: 0.4921 - accuracy: 0.7970\n",
      "Epoch 2/100\n",
      "800/800 [==============================] - 1s 693us/step - loss: 0.4322 - accuracy: 0.7969\n",
      "Epoch 3/100\n",
      "800/800 [==============================] - 1s 736us/step - loss: 0.4286 - accuracy: 0.7969\n",
      "Epoch 4/100\n",
      "800/800 [==============================] - 1s 1ms/step - loss: 0.4238 - accuracy: 0.8135\n",
      "Epoch 5/100\n",
      "800/800 [==============================] - 1s 1ms/step - loss: 0.4180 - accuracy: 0.8257: 0s -\n",
      "Epoch 6/100\n",
      "800/800 [==============================] - 1s 1ms/step - loss: 0.4122 - accuracy: 0.8326\n",
      "Epoch 7/100\n",
      "800/800 [==============================] - 1s 1ms/step - loss: 0.4087 - accuracy: 0.8361\n",
      "Epoch 8/100\n",
      "800/800 [==============================] - 1s 854us/step - loss: 0.4054 - accuracy: 0.8357\n",
      "Epoch 9/100\n",
      "800/800 [==============================] - 1s 779us/step - loss: 0.4037 - accuracy: 0.8359\n",
      "Epoch 10/100\n",
      "800/800 [==============================] - 1s 884us/step - loss: 0.4016 - accuracy: 0.8360\n",
      "Epoch 11/100\n",
      "800/800 [==============================] - 1s 674us/step - loss: 0.4004 - accuracy: 0.8365\n",
      "Epoch 12/100\n",
      "800/800 [==============================] - 1s 657us/step - loss: 0.3993 - accuracy: 0.8375\n",
      "Epoch 13/100\n",
      "800/800 [==============================] - 1s 692us/step - loss: 0.3979 - accuracy: 0.8365\n",
      "Epoch 14/100\n",
      "800/800 [==============================] - 1s 663us/step - loss: 0.3972 - accuracy: 0.8382\n",
      "Epoch 15/100\n",
      "800/800 [==============================] - 1s 647us/step - loss: 0.3964 - accuracy: 0.8367\n",
      "Epoch 16/100\n",
      "800/800 [==============================] - 1s 722us/step - loss: 0.3954 - accuracy: 0.8379\n",
      "Epoch 17/100\n",
      "800/800 [==============================] - 1s 865us/step - loss: 0.3955 - accuracy: 0.8372\n",
      "Epoch 18/100\n",
      "800/800 [==============================] - 1s 666us/step - loss: 0.3952 - accuracy: 0.8384\n",
      "Epoch 19/100\n",
      "800/800 [==============================] - 1s 646us/step - loss: 0.3945 - accuracy: 0.8382\n",
      "Epoch 20/100\n",
      "800/800 [==============================] - 1s 678us/step - loss: 0.3946 - accuracy: 0.8380\n",
      "Epoch 21/100\n",
      "800/800 [==============================] - 1s 717us/step - loss: 0.3943 - accuracy: 0.8403\n",
      "Epoch 22/100\n",
      "800/800 [==============================] - 1s 649us/step - loss: 0.3937 - accuracy: 0.8378\n",
      "Epoch 23/100\n",
      "800/800 [==============================] - 1s 648us/step - loss: 0.3936 - accuracy: 0.8404\n",
      "Epoch 24/100\n",
      "800/800 [==============================] - 1s 690us/step - loss: 0.3928 - accuracy: 0.8404\n",
      "Epoch 25/100\n",
      "800/800 [==============================] - 1s 687us/step - loss: 0.3935 - accuracy: 0.8395\n",
      "Epoch 26/100\n",
      "800/800 [==============================] - 1s 643us/step - loss: 0.3929 - accuracy: 0.8414\n",
      "Epoch 27/100\n",
      "800/800 [==============================] - 1s 651us/step - loss: 0.3925 - accuracy: 0.8414\n",
      "Epoch 28/100\n",
      "800/800 [==============================] - 1s 645us/step - loss: 0.3927 - accuracy: 0.8391\n",
      "Epoch 29/100\n",
      "800/800 [==============================] - 1s 692us/step - loss: 0.3925 - accuracy: 0.8405\n",
      "Epoch 30/100\n",
      "800/800 [==============================] - 1s 643us/step - loss: 0.3926 - accuracy: 0.8406\n",
      "Epoch 31/100\n",
      "800/800 [==============================] - 1s 677us/step - loss: 0.3930 - accuracy: 0.8401\n",
      "Epoch 32/100\n",
      "800/800 [==============================] - 1s 875us/step - loss: 0.3923 - accuracy: 0.8416\n",
      "Epoch 33/100\n",
      "800/800 [==============================] - 1s 837us/step - loss: 0.3927 - accuracy: 0.8419\n",
      "Epoch 34/100\n",
      "800/800 [==============================] - 1s 643us/step - loss: 0.3925 - accuracy: 0.8409\n",
      "Epoch 35/100\n",
      "800/800 [==============================] - 1s 684us/step - loss: 0.3922 - accuracy: 0.8400\n",
      "Epoch 36/100\n",
      "800/800 [==============================] - 1s 714us/step - loss: 0.3918 - accuracy: 0.8422\n",
      "Epoch 37/100\n",
      "800/800 [==============================] - 1s 677us/step - loss: 0.3924 - accuracy: 0.8399\n",
      "Epoch 38/100\n",
      "800/800 [==============================] - 1s 677us/step - loss: 0.3920 - accuracy: 0.8416\n",
      "Epoch 39/100\n",
      "800/800 [==============================] - 1s 676us/step - loss: 0.3919 - accuracy: 0.8420\n",
      "Epoch 40/100\n",
      "800/800 [==============================] - 1s 696us/step - loss: 0.3909 - accuracy: 0.8403\n",
      "Epoch 41/100\n",
      "800/800 [==============================] - 1s 658us/step - loss: 0.3922 - accuracy: 0.8407\n",
      "Epoch 42/100\n",
      "800/800 [==============================] - 1s 752us/step - loss: 0.3913 - accuracy: 0.8431\n",
      "Epoch 43/100\n",
      "800/800 [==============================] - 1s 848us/step - loss: 0.3913 - accuracy: 0.8406\n",
      "Epoch 44/100\n",
      "800/800 [==============================] - 1s 790us/step - loss: 0.3916 - accuracy: 0.8407\n",
      "Epoch 45/100\n",
      "800/800 [==============================] - 1s 673us/step - loss: 0.3912 - accuracy: 0.8425\n",
      "Epoch 46/100\n",
      "800/800 [==============================] - 1s 661us/step - loss: 0.3912 - accuracy: 0.8407\n",
      "Epoch 47/100\n",
      "800/800 [==============================] - 1s 741us/step - loss: 0.3915 - accuracy: 0.8416\n",
      "Epoch 48/100\n",
      "800/800 [==============================] - 1s 874us/step - loss: 0.3914 - accuracy: 0.8400\n",
      "Epoch 49/100\n",
      "800/800 [==============================] - 1s 842us/step - loss: 0.3911 - accuracy: 0.8410\n",
      "Epoch 50/100\n",
      "800/800 [==============================] - 1s 873us/step - loss: 0.3913 - accuracy: 0.8401\n",
      "Epoch 51/100\n",
      "800/800 [==============================] - 1s 773us/step - loss: 0.3913 - accuracy: 0.8422\n",
      "Epoch 52/100\n",
      "800/800 [==============================] - 1s 720us/step - loss: 0.3915 - accuracy: 0.8396\n",
      "Epoch 53/100\n",
      "800/800 [==============================] - 1s 708us/step - loss: 0.3906 - accuracy: 0.8415\n",
      "Epoch 54/100\n",
      "800/800 [==============================] - 1s 743us/step - loss: 0.3909 - accuracy: 0.8425\n",
      "Epoch 55/100\n",
      "800/800 [==============================] - 1s 925us/step - loss: 0.3907 - accuracy: 0.8410\n",
      "Epoch 56/100\n",
      "800/800 [==============================] - 1s 949us/step - loss: 0.3911 - accuracy: 0.8407\n",
      "Epoch 57/100\n",
      "800/800 [==============================] - 1s 802us/step - loss: 0.3908 - accuracy: 0.8401\n",
      "Epoch 58/100\n",
      "800/800 [==============================] - 1s 946us/step - loss: 0.3907 - accuracy: 0.8385\n",
      "Epoch 59/100\n",
      "800/800 [==============================] - 1s 878us/step - loss: 0.3910 - accuracy: 0.8424\n",
      "Epoch 60/100\n",
      "800/800 [==============================] - 1s 725us/step - loss: 0.3902 - accuracy: 0.8422\n",
      "Epoch 61/100\n",
      "800/800 [==============================] - 1s 684us/step - loss: 0.3906 - accuracy: 0.8409\n",
      "Epoch 62/100\n",
      "800/800 [==============================] - 1s 738us/step - loss: 0.3909 - accuracy: 0.8418\n",
      "Epoch 63/100\n",
      "800/800 [==============================] - 1s 689us/step - loss: 0.3906 - accuracy: 0.8401\n",
      "Epoch 64/100\n",
      "800/800 [==============================] - 1s 725us/step - loss: 0.3907 - accuracy: 0.8414\n",
      "Epoch 65/100\n",
      "800/800 [==============================] - 1s 712us/step - loss: 0.3903 - accuracy: 0.8389\n",
      "Epoch 66/100\n",
      "800/800 [==============================] - 1s 679us/step - loss: 0.3904 - accuracy: 0.8409\n",
      "Epoch 67/100\n",
      "800/800 [==============================] - 1s 756us/step - loss: 0.3905 - accuracy: 0.8414\n",
      "Epoch 68/100\n",
      "800/800 [==============================] - 1s 715us/step - loss: 0.3906 - accuracy: 0.8400\n",
      "Epoch 69/100\n",
      "800/800 [==============================] - 1s 677us/step - loss: 0.3905 - accuracy: 0.8396\n",
      "Epoch 70/100\n",
      "800/800 [==============================] - 1s 955us/step - loss: 0.3898 - accuracy: 0.84050s - loss: 0\n",
      "Epoch 71/100\n",
      "800/800 [==============================] - 1s 1ms/step - loss: 0.3896 - accuracy: 0.8400\n",
      "Epoch 72/100\n",
      "800/800 [==============================] - 1s 1ms/step - loss: 0.3904 - accuracy: 0.8418\n",
      "Epoch 73/100\n",
      "800/800 [==============================] - 1s 1ms/step - loss: 0.3902 - accuracy: 0.8405\n",
      "Epoch 74/100\n",
      "800/800 [==============================] - 1s 1ms/step - loss: 0.3896 - accuracy: 0.8415\n",
      "Epoch 75/100\n",
      "800/800 [==============================] - 1s 1ms/step - loss: 0.3902 - accuracy: 0.8424\n",
      "Epoch 76/100\n",
      "800/800 [==============================] - 1s 997us/step - loss: 0.3900 - accuracy: 0.8419\n",
      "Epoch 77/100\n",
      "800/800 [==============================] - 1s 1ms/step - loss: 0.3899 - accuracy: 0.8406\n",
      "Epoch 78/100\n",
      "800/800 [==============================] - 1s 1ms/step - loss: 0.3900 - accuracy: 0.8419\n",
      "Epoch 79/100\n"
     ]
    },
    {
     "name": "stdout",
     "output_type": "stream",
     "text": [
      "800/800 [==============================] - 1s 976us/step - loss: 0.3895 - accuracy: 0.8415\n",
      "Epoch 80/100\n",
      "800/800 [==============================] - 1s 1ms/step - loss: 0.3893 - accuracy: 0.8406\n",
      "Epoch 81/100\n",
      "800/800 [==============================] - 1s 1ms/step - loss: 0.3899 - accuracy: 0.8420\n",
      "Epoch 82/100\n",
      "800/800 [==============================] - 1s 966us/step - loss: 0.3899 - accuracy: 0.8399\n",
      "Epoch 83/100\n",
      "800/800 [==============================] - 1s 895us/step - loss: 0.3895 - accuracy: 0.8406\n",
      "Epoch 84/100\n",
      "800/800 [==============================] - 1s 870us/step - loss: 0.3891 - accuracy: 0.8430\n",
      "Epoch 85/100\n",
      "800/800 [==============================] - 1s 967us/step - loss: 0.3896 - accuracy: 0.8414\n",
      "Epoch 86/100\n",
      "800/800 [==============================] - 1s 1ms/step - loss: 0.3899 - accuracy: 0.8401\n",
      "Epoch 87/100\n",
      "800/800 [==============================] - 1s 1ms/step - loss: 0.3896 - accuracy: 0.8421\n",
      "Epoch 88/100\n",
      "800/800 [==============================] - 1s 1ms/step - loss: 0.3898 - accuracy: 0.8399\n",
      "Epoch 89/100\n",
      "800/800 [==============================] - 1s 1ms/step - loss: 0.3897 - accuracy: 0.8405\n",
      "Epoch 90/100\n",
      "800/800 [==============================] - 1s 1ms/step - loss: 0.3898 - accuracy: 0.8393\n",
      "Epoch 91/100\n",
      "800/800 [==============================] - 1s 1ms/step - loss: 0.3893 - accuracy: 0.8403\n",
      "Epoch 92/100\n",
      "800/800 [==============================] - 1s 1ms/step - loss: 0.3895 - accuracy: 0.8422\n",
      "Epoch 93/100\n",
      "800/800 [==============================] - 1s 1ms/step - loss: 0.3898 - accuracy: 0.8418\n",
      "Epoch 94/100\n",
      "800/800 [==============================] - 1s 1ms/step - loss: 0.3896 - accuracy: 0.8416\n",
      "Epoch 95/100\n",
      "800/800 [==============================] - 1s 1ms/step - loss: 0.3893 - accuracy: 0.8428\n",
      "Epoch 96/100\n",
      "800/800 [==============================] - 1s 938us/step - loss: 0.3898 - accuracy: 0.8401\n",
      "Epoch 97/100\n",
      "800/800 [==============================] - 1s 1ms/step - loss: 0.3896 - accuracy: 0.8401\n",
      "Epoch 98/100\n",
      "800/800 [==============================] - 1s 1ms/step - loss: 0.3895 - accuracy: 0.8420\n",
      "Epoch 99/100\n",
      "800/800 [==============================] - 1s 1ms/step - loss: 0.3897 - accuracy: 0.8397\n",
      "Epoch 100/100\n",
      "800/800 [==============================] - 1s 1ms/step - loss: 0.3891 - accuracy: 0.8432\n"
     ]
    },
    {
     "data": {
      "text/plain": [
       "<tensorflow.python.keras.callbacks.History at 0x1b5708986d0>"
      ]
     },
     "execution_count": 24,
     "metadata": {},
     "output_type": "execute_result"
    }
   ],
   "source": [
    "clr.fit(X_train, y_train, batch_size=10, epochs=100)"
   ]
  },
  {
   "cell_type": "code",
   "execution_count": 25,
   "id": "numeric-lyric",
   "metadata": {},
   "outputs": [],
   "source": [
    "y_pred = np.around(clr.predict(X_test), 0).flatten()"
   ]
  },
  {
   "cell_type": "code",
   "execution_count": 26,
   "id": "upper-handbook",
   "metadata": {},
   "outputs": [
    {
     "data": {
      "text/plain": [
       "array([0., 0., 0., 0., 0., 0., 0., 0., 0., 0., 0., 0., 0., 0., 0., 0., 0.,\n",
       "       0., 0., 0., 0., 0., 1., 0., 1., 0., 0., 0., 1., 1., 0., 0., 0., 1.,\n",
       "       0., 0., 0., 1., 0., 0., 0., 0., 0., 0., 0., 0., 0., 1., 0., 0., 1.,\n",
       "       0., 0., 0., 0., 0., 0., 1., 1., 0., 0., 0., 0., 0., 0., 0., 0., 0.,\n",
       "       1., 0., 0., 0., 0., 0., 0., 0., 0., 0., 1., 0., 0., 1., 0., 0., 0.,\n",
       "       0., 0., 0., 0., 0., 0., 1., 1., 0., 1., 0., 0., 0., 0., 0., 0., 0.,\n",
       "       0., 0., 1., 0., 0., 0., 1., 0., 1., 1., 0., 0., 0., 0., 0., 1., 0.,\n",
       "       0., 0., 0., 0., 0., 0., 0., 0., 0., 0., 0., 0., 0., 0., 0., 0., 0.,\n",
       "       0., 0., 0., 0., 0., 0., 0., 0., 0., 0., 0., 0., 0., 0., 1., 0., 0.,\n",
       "       0., 0., 0., 0., 0., 0., 0., 0., 0., 0., 0., 0., 0., 0., 0., 1., 0.,\n",
       "       0., 0., 0., 0., 0., 0., 0., 0., 0., 0., 0., 0., 0., 0., 0., 0., 0.,\n",
       "       0., 0., 0., 0., 1., 0., 0., 1., 0., 0., 0., 1., 0., 0., 0., 0., 0.,\n",
       "       0., 0., 0., 0., 0., 0., 0., 0., 0., 0., 0., 0., 0., 0., 0., 0., 0.,\n",
       "       0., 0., 1., 0., 0., 0., 0., 0., 0., 0., 0., 0., 0., 0., 0., 0., 0.,\n",
       "       0., 0., 0., 0., 0., 0., 0., 0., 0., 0., 0., 0., 0., 0., 0., 0., 1.,\n",
       "       0., 0., 0., 0., 0., 0., 0., 0., 0., 0., 0., 0., 0., 0., 0., 0., 0.,\n",
       "       0., 0., 0., 0., 0., 0., 0., 0., 1., 0., 0., 0., 0., 0., 0., 0., 0.,\n",
       "       0., 0., 0., 0., 0., 0., 0., 0., 0., 1., 0., 0., 0., 0., 0., 0., 0.,\n",
       "       1., 0., 0., 0., 0., 0., 0., 0., 0., 0., 0., 0., 0., 0., 0., 1., 0.,\n",
       "       0., 0., 0., 0., 0., 0., 0., 0., 1., 0., 1., 0., 0., 1., 0., 0., 0.,\n",
       "       0., 0., 0., 0., 0., 0., 0., 0., 0., 0., 0., 0., 0., 0., 0., 0., 0.,\n",
       "       0., 0., 0., 0., 0., 0., 1., 1., 0., 1., 0., 0., 0., 1., 0., 0., 0.,\n",
       "       0., 0., 0., 0., 0., 0., 0., 1., 0., 0., 0., 0., 0., 0., 0., 0., 0.,\n",
       "       0., 0., 0., 0., 0., 0., 0., 0., 0., 0., 0., 0., 0., 0., 0., 0., 0.,\n",
       "       0., 0., 0., 0., 0., 0., 0., 0., 1., 0., 0., 0., 0., 0., 0., 0., 0.,\n",
       "       0., 0., 0., 0., 1., 0., 0., 0., 1., 0., 0., 0., 0., 1., 0., 0., 1.,\n",
       "       0., 0., 0., 0., 0., 0., 0., 0., 0., 0., 0., 0., 0., 0., 0., 0., 0.,\n",
       "       0., 0., 1., 0., 0., 0., 0., 0., 0., 0., 0., 0., 0., 0., 0., 1., 0.,\n",
       "       0., 0., 1., 0., 0., 0., 0., 0., 0., 0., 0., 0., 0., 1., 0., 0., 0.,\n",
       "       0., 0., 0., 0., 0., 0., 0., 1., 0., 0., 0., 0., 0., 0., 0., 1., 0.,\n",
       "       0., 0., 0., 1., 0., 0., 0., 0., 0., 0., 1., 0., 0., 0., 0., 0., 0.,\n",
       "       0., 0., 0., 0., 0., 0., 0., 0., 0., 0., 1., 0., 0., 0., 0., 0., 0.,\n",
       "       0., 0., 0., 0., 0., 0., 0., 0., 0., 0., 0., 0., 0., 0., 0., 0., 0.,\n",
       "       0., 0., 0., 0., 0., 0., 0., 1., 0., 0., 0., 0., 0., 0., 0., 0., 0.,\n",
       "       0., 1., 0., 0., 0., 0., 0., 0., 0., 1., 0., 0., 0., 0., 0., 0., 0.,\n",
       "       0., 0., 0., 0., 0., 0., 0., 0., 0., 0., 1., 0., 0., 0., 0., 0., 0.,\n",
       "       0., 0., 0., 0., 0., 0., 0., 0., 0., 0., 0., 0., 1., 0., 1., 0., 0.,\n",
       "       0., 0., 0., 1., 0., 0., 0., 0., 1., 1., 1., 0., 0., 0., 1., 0., 1.,\n",
       "       1., 0., 0., 1., 0., 0., 0., 0., 0., 0., 0., 0., 0., 0., 0., 0., 0.,\n",
       "       0., 0., 0., 0., 0., 0., 0., 0., 0., 0., 0., 1., 0., 0., 1., 0., 0.,\n",
       "       0., 0., 0., 0., 1., 0., 0., 0., 0., 0., 0., 0., 0., 0., 0., 1., 0.,\n",
       "       0., 0., 0., 1., 0., 0., 0., 0., 1., 0., 0., 1., 0., 1., 0., 0., 0.,\n",
       "       0., 0., 0., 0., 0., 0., 0., 0., 0., 0., 0., 0., 1., 0., 0., 0., 0.,\n",
       "       0., 1., 0., 0., 0., 1., 0., 0., 0., 0., 0., 0., 0., 0., 0., 1., 1.,\n",
       "       0., 0., 0., 0., 0., 0., 1., 0., 0., 0., 1., 0., 0., 0., 0., 0., 0.,\n",
       "       0., 0., 0., 0., 0., 0., 0., 0., 1., 0., 0., 0., 0., 0., 0., 0., 0.,\n",
       "       0., 0., 0., 0., 1., 0., 0., 0., 1., 0., 0., 0., 1., 0., 1., 0., 0.,\n",
       "       0., 0., 0., 0., 0., 1., 0., 0., 0., 0., 0., 1., 0., 0., 0., 0., 0.,\n",
       "       0., 0., 0., 1., 0., 0., 0., 0., 0., 0., 0., 0., 0., 1., 0., 1., 0.,\n",
       "       0., 0., 0., 1., 0., 0., 0., 0., 1., 0., 0., 0., 0., 0., 0., 0., 0.,\n",
       "       0., 0., 0., 1., 1., 0., 0., 0., 1., 1., 1., 0., 0., 0., 0., 0., 0.,\n",
       "       0., 0., 0., 0., 0., 0., 0., 0., 0., 1., 0., 0., 0., 0., 0., 0., 0.,\n",
       "       0., 1., 0., 0., 0., 0., 0., 0., 0., 0., 0., 0., 0., 0., 0., 0., 0.,\n",
       "       0., 0., 0., 0., 0., 0., 1., 0., 0., 0., 0., 0., 0., 1., 0., 0., 0.,\n",
       "       0., 0., 0., 0., 0., 0., 0., 0., 0., 0., 0., 1., 0., 0., 0., 0., 1.,\n",
       "       0., 0., 0., 0., 0., 0., 0., 0., 0., 0., 0., 1., 0., 0., 1., 0., 0.,\n",
       "       0., 0., 0., 0., 0., 1., 0., 0., 0., 0., 1., 0., 0., 0., 0., 0., 0.,\n",
       "       0., 0., 0., 0., 0., 0., 0., 0., 0., 0., 0., 0., 0., 0., 1., 1., 0.,\n",
       "       0., 0., 0., 0., 0., 0., 0., 0., 0., 0., 0., 0., 0., 0., 0., 0., 0.,\n",
       "       0., 0., 0., 0., 0., 0., 0., 0., 0., 1., 0., 1., 0., 1., 0., 0., 0.,\n",
       "       0., 0., 0., 0., 0., 0., 0., 0., 0., 0., 0., 0., 0., 0., 0., 0., 0.,\n",
       "       0., 0., 0., 0., 0., 0., 0., 0., 0., 0., 0., 0., 0., 0., 0., 0., 0.,\n",
       "       0., 1., 0., 0., 0., 0., 0., 0., 0., 0., 0., 0., 0., 0., 0., 0., 1.,\n",
       "       0., 0., 0., 0., 0., 0., 1., 0., 0., 0., 0., 0., 0., 0., 0., 0., 0.,\n",
       "       0., 0., 0., 0., 0., 0., 0., 0., 0., 0., 0., 0., 0., 0., 0., 0., 0.,\n",
       "       0., 0., 0., 1., 0., 0., 0., 0., 0., 0., 0., 0., 0., 0., 0., 0., 0.,\n",
       "       1., 0., 0., 0., 0., 0., 0., 0., 0., 0., 0., 0., 0., 0., 0., 1., 0.,\n",
       "       0., 0., 1., 0., 0., 0., 0., 0., 0., 1., 0., 0., 0., 0., 0., 0., 0.,\n",
       "       0., 0., 0., 0., 0., 0., 0., 0., 0., 0., 0., 0., 0., 0., 1., 0., 0.,\n",
       "       0., 0., 0., 1., 0., 0., 0., 0., 0., 0., 0., 0., 0., 0., 0., 0., 0.,\n",
       "       0., 0., 0., 0., 0., 0., 0., 0., 0., 0., 0., 1., 0., 0., 0., 0., 0.,\n",
       "       0., 0., 0., 0., 0., 0., 0., 0., 1., 0., 0., 0., 0., 0., 0., 0., 0.,\n",
       "       0., 0., 0., 0., 0., 0., 0., 0., 0., 0., 0., 0., 0., 0., 0., 0., 0.,\n",
       "       0., 0., 0., 0., 0., 0., 0., 0., 0., 0., 0., 0., 0., 0., 0., 0., 0.,\n",
       "       1., 1., 0., 0., 0., 0., 0., 0., 0., 0., 0., 0., 0., 0., 0., 0., 0.,\n",
       "       0., 1., 0., 0., 0., 0., 0., 0., 0., 0., 1., 0., 0., 0., 0., 0., 0.,\n",
       "       0., 0., 0., 0., 0., 0., 0., 0., 0., 0., 1., 0., 0., 0., 0., 0., 1.,\n",
       "       0., 0., 0., 0., 0., 0., 0., 0., 0., 0., 0., 0., 0., 1., 0., 0., 0.,\n",
       "       1., 0., 0., 0., 0., 0., 0., 0., 0., 0., 1., 0., 0., 0., 0., 0., 1.,\n",
       "       0., 0., 0., 0., 0., 0., 0., 0., 0., 0., 0., 0., 0., 0., 0., 0., 0.,\n",
       "       0., 0., 0., 1., 0., 0., 0., 0., 0., 0., 0., 0., 0., 0., 0., 0., 0.,\n",
       "       0., 0., 0., 0., 0., 0., 0., 0., 0., 0., 0., 1., 0., 0., 0., 0., 0.,\n",
       "       0., 0., 0., 0., 0., 1., 1., 0., 0., 1., 0., 0., 0., 0., 0., 0., 0.,\n",
       "       0., 0., 0., 1., 0., 0., 0., 0., 0., 0., 0., 1., 0., 0., 0., 0., 0.,\n",
       "       0., 1., 0., 0., 0., 0., 0., 0., 0., 0., 0., 0., 1., 0., 0., 0., 0.,\n",
       "       0., 0., 0., 0., 1., 0., 0., 0., 1., 0., 0., 0., 0., 0., 0., 0., 0.,\n",
       "       0., 0., 1., 0., 0., 0., 0., 0., 0., 0., 0., 0., 0., 1., 0., 0., 0.,\n",
       "       0., 0., 0., 0., 0., 0., 0., 0., 0., 0., 0., 0., 0., 0., 0., 1., 0.,\n",
       "       0., 0., 0., 0., 0., 0., 0., 0., 0., 0., 1., 0., 0., 0., 0., 1., 0.,\n",
       "       0., 0., 0., 1., 0., 0., 0., 0., 0., 0., 0., 0., 0., 1., 0., 0., 0.,\n",
       "       0., 0., 0., 0., 0., 0., 0., 0., 0., 0., 0., 0., 0., 0., 0., 0., 0.,\n",
       "       0., 0., 1., 0., 0., 0., 0., 0., 0., 0., 0., 0., 0., 0., 0., 0., 0.,\n",
       "       0., 0., 0., 0., 0., 0., 0., 0., 0., 0., 0., 0., 1., 0., 1., 0., 0.,\n",
       "       0., 0., 0., 0., 0., 0., 0., 0., 0., 1., 0., 0., 0., 0., 0., 0., 0.,\n",
       "       0., 0., 0., 0., 0., 0., 0., 0., 0., 0., 0., 0., 0., 0., 0., 0., 0.,\n",
       "       0., 0., 0., 0., 0., 0., 0., 0., 0., 0., 0., 0., 1., 0., 0., 0., 1.,\n",
       "       0., 0., 0., 0., 0., 0., 0., 1., 0., 0., 0., 0., 0., 0., 0., 0., 0.,\n",
       "       0., 0., 1., 0., 0., 0., 0., 0., 0., 0., 0., 0., 0., 0., 0., 0., 0.,\n",
       "       0., 0., 0., 0., 0., 1., 0., 0., 0., 0., 0., 1., 0., 0., 0., 0., 0.,\n",
       "       0., 0., 0., 0., 0., 0., 0., 0., 0., 0., 0., 0., 0., 0., 0., 0., 0.,\n",
       "       0., 0., 0., 0., 0., 0., 0., 0., 0., 0., 1., 0., 1., 0., 0., 0., 0.,\n",
       "       0., 0., 0., 0., 0., 0., 0., 0., 0., 0., 0., 0., 0., 0., 0., 0., 0.,\n",
       "       0., 0., 1., 0., 0., 0., 1., 0., 0., 0., 0., 1., 0., 1., 0., 0., 0.,\n",
       "       1., 0., 0., 0., 0., 0., 0., 0., 0., 1., 0., 0., 0., 0., 0., 1., 0.,\n",
       "       0., 0., 0., 0., 0., 0., 0., 0., 0., 0., 0., 1., 0., 0., 0., 0., 0.,\n",
       "       0., 0., 0., 0., 0., 0., 1., 0., 0., 0., 0., 0., 0., 0., 0., 0., 0.,\n",
       "       0., 0., 0., 0., 0., 0., 0., 1., 0., 0., 0., 0., 0., 0., 0., 1., 1.,\n",
       "       0., 0., 0., 0., 0., 0., 0., 1., 1., 0., 0., 0., 0., 0., 0., 1., 0.,\n",
       "       0., 0., 0., 1., 0., 0., 0., 0., 0., 0., 0., 0., 1., 1., 0., 0., 0.,\n",
       "       0., 0., 0., 0., 0., 0., 0., 0., 0., 0., 0., 0., 0., 0., 0., 0., 0.,\n",
       "       0., 1., 0., 0., 0., 0., 0., 0., 0., 0., 0., 0., 0., 0., 0., 0., 1.,\n",
       "       0., 0., 0., 0., 0., 0., 0., 0., 0., 0., 0., 0., 0., 0., 0., 0., 0.,\n",
       "       0., 0., 0., 0., 0., 0., 0., 0., 1., 0., 0., 0., 0., 0., 0., 0., 0.,\n",
       "       0., 0., 0., 0., 0., 0., 0., 0., 0., 0., 0., 0., 0., 0., 0., 0., 0.,\n",
       "       0., 0., 0., 1., 1., 0., 0., 0., 0., 0., 0., 1., 0., 1., 0., 0., 0.,\n",
       "       0., 0., 0., 0., 0., 0., 0., 0., 1., 0., 0., 0., 0., 0., 0., 0., 1.,\n",
       "       0., 0., 1., 0., 0., 0., 0., 0., 1., 0., 0., 0., 0., 0., 0., 0., 1.,\n",
       "       0., 0., 1., 0., 1., 0., 0., 0., 0., 1., 0.], dtype=float32)"
      ]
     },
     "execution_count": 26,
     "metadata": {},
     "output_type": "execute_result"
    }
   ],
   "source": [
    "y_pred"
   ]
  },
  {
   "cell_type": "code",
   "execution_count": 27,
   "id": "floating-domestic",
   "metadata": {},
   "outputs": [
    {
     "data": {
      "text/plain": [
       "0.825"
      ]
     },
     "execution_count": 27,
     "metadata": {},
     "output_type": "execute_result"
    }
   ],
   "source": [
    "accuracy_score(y_test, y_pred)"
   ]
  },
  {
   "cell_type": "code",
   "execution_count": 28,
   "id": "scientific-monster",
   "metadata": {},
   "outputs": [
    {
     "data": {
      "text/plain": [
       "array([[1519,   69],\n",
       "       [ 281,  131]], dtype=int64)"
      ]
     },
     "execution_count": 28,
     "metadata": {},
     "output_type": "execute_result"
    }
   ],
   "source": [
    "cm= confusion_matrix(y_test,y_pred)\n",
    "cm"
   ]
  },
  {
   "cell_type": "code",
   "execution_count": 29,
   "id": "applied-discovery",
   "metadata": {},
   "outputs": [
    {
     "data": {
      "text/plain": [
       "85.55"
      ]
     },
     "execution_count": 29,
     "metadata": {},
     "output_type": "execute_result"
    }
   ],
   "source": [
    "100*(1538+173)/2000"
   ]
  },
  {
   "cell_type": "code",
   "execution_count": 30,
   "id": "sonic-richardson",
   "metadata": {},
   "outputs": [
    {
     "name": "stdout",
     "output_type": "stream",
     "text": [
      "0\n",
      "0.0\n",
      "[-0.92654592  1.53417918 -1.09997489 -0.73652292 -0.01372559  0.79617277\n",
      " -0.92250216  0.62593007 -1.02020406 -0.37058573]\n",
      "2\n",
      "1\n"
     ]
    }
   ],
   "source": [
    "print(y_test[1])\n",
    "print(y_pred[1])\n",
    "print(X_test[1])\n",
    "print(X_test.ndim)\n",
    "print(X_test[1].ndim)"
   ]
  },
  {
   "cell_type": "code",
   "execution_count": 31,
   "id": "inner-niger",
   "metadata": {},
   "outputs": [
    {
     "data": {
      "text/plain": [
       "array([[0.]], dtype=float32)"
      ]
     },
     "execution_count": 31,
     "metadata": {},
     "output_type": "execute_result"
    }
   ],
   "source": [
    "yy1 = np.around(clr.predict([[-1.30362717,  0.28261018,  0.87833888,  0.23127098, -1.7704396,   0.68029117,\n",
    " -0.92465267, -1.59959959, -1.04920939,  0.31467593]]))\n",
    "yy1"
   ]
  },
  {
   "cell_type": "code",
   "execution_count": 32,
   "id": "public-motion",
   "metadata": {},
   "outputs": [],
   "source": [
    "from tensorflow.keras.models import load_model\n",
    "\n",
    "clr.save('model_resnet50.h5')"
   ]
  },
  {
   "cell_type": "code",
   "execution_count": 33,
   "id": "processed-instruction",
   "metadata": {},
   "outputs": [
    {
     "data": {
      "text/plain": [
       "'2.4.3'"
      ]
     },
     "execution_count": 33,
     "metadata": {},
     "output_type": "execute_result"
    }
   ],
   "source": [
    "keras.__version__"
   ]
  },
  {
   "cell_type": "code",
   "execution_count": null,
   "id": "faced-safety",
   "metadata": {},
   "outputs": [],
   "source": []
  }
 ],
 "metadata": {
  "kernelspec": {
   "display_name": "Python 3",
   "language": "python",
   "name": "python3"
  },
  "language_info": {
   "codemirror_mode": {
    "name": "ipython",
    "version": 3
   },
   "file_extension": ".py",
   "mimetype": "text/x-python",
   "name": "python",
   "nbconvert_exporter": "python",
   "pygments_lexer": "ipython3",
   "version": "3.8.5"
  }
 },
 "nbformat": 4,
 "nbformat_minor": 5
}
